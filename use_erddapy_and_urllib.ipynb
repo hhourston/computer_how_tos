{
 "cells": [
  {
   "cell_type": "markdown",
   "id": "618d4fbe-1423-4e3a-9437-6859282ecc9f",
   "metadata": {},
   "source": [
    "# erddapy and urllib in Python\n",
    "Feb. 13, 2025\n",
    "\n",
    "## About\n",
    "This document explains how I searched the CEOTR ERDDAP server for Halifax Line glider data using Python. The process for searching and downloading the data is in https://data.ceotr.ca/erddap/tabledap/documentation.html, and is shown here.\n",
    "\n",
    "erddapy: Install from https://github.com/ioos/erddapy#--erddapy \\\n",
    "urllib: built-in to Python"
   ]
  },
  {
   "cell_type": "markdown",
   "id": "594c4b7b-a368-425a-95de-1e358ba90d00",
   "metadata": {},
   "source": [
    "## Search the ERDDAP server\n",
    "Here I used the CEOTR ERDDAP server (Dal glider data)."
   ]
  },
  {
   "cell_type": "code",
   "execution_count": 3,
   "id": "963e24c4-b408-4ec2-8f11-aae06c269890",
   "metadata": {},
   "outputs": [],
   "source": [
    "import sys\n",
    "from urllib.request import urlretrieve\n",
    "from erddapy import ERDDAP\n",
    "import pandas as pd\n",
    "\n",
    "server = 'https://data.ceotr.ca/erddap'\n",
    "e = ERDDAP(server=server)\n",
    "\n",
    "# Search keywords\n",
    "# search_for = \"Halifax Line Monitoring -realtime\"\n",
    "search_for = \"halifax glider delayed -'wave glider'\"\n",
    "\n",
    "url = e.get_search_url(search_for=search_for, response=\"csv\")\n",
    "\n",
    "results = pd.read_csv(url)  # Returns a pandas dataframe"
   ]
  },
  {
   "cell_type": "code",
   "execution_count": 5,
   "id": "2d018ce2-e312-4666-91c7-99e5d90b9dea",
   "metadata": {},
   "outputs": [
    {
     "data": {
      "text/plain": [
       "0            we10_20140902_58_delayed\n",
       "1            we04_20150728_59_delayed\n",
       "2           fundy_20180517_83_delayed\n",
       "3          dal556_20170425_71_delayed\n",
       "4          otn200_20160624_62_delayed\n",
       "                   ...               \n",
       "59    peggy_20220310_146_delayed_test\n",
       "60    fundy_20220413_149_delayed_test\n",
       "61    fundy_20200601_111_delayed_test\n",
       "62    cabot_20220525_153_delayed_test\n",
       "63    cabot_20210513_129_delayed_test\n",
       "Name: Dataset ID, Length: 64, dtype: object"
      ]
     },
     "execution_count": 5,
     "metadata": {},
     "output_type": "execute_result"
    }
   ],
   "source": [
    "# Print the dataset id column of the dataframe\n",
    "results['Dataset ID']"
   ]
  },
  {
   "cell_type": "markdown",
   "id": "da835d51-a3c4-4b57-83d9-1e79538ad2fb",
   "metadata": {},
   "source": [
    "## Download search results to netCDF\n",
    "On the CEOTR ERDDAP server, the data from each mission are separated by cast. Downloads can be slow, especially if there are lots of casts (e.g. Mission \\#39 was too big to download into one file). The following code downloads all the data from a single mission into one netCDF file.\n",
    "\n",
    "You can specify a list of variables to download from each mission, but an error will be thrown if a mission doesn't have one of those specific variables, so I downloaded all variables by default."
   ]
  },
  {
   "cell_type": "code",
   "execution_count": null,
   "id": "3dc55beb-87e4-4d26-b5fd-99fb75b01b38",
   "metadata": {},
   "outputs": [],
   "source": [
    "# Initialize a list to hold the names of the saved netCDF files\n",
    "filenames = []\n",
    "output_dir = './erddapy_search_results/'  # Output directory\n",
    "\n",
    "# Download all 64 missions using the dataset IDs in the results data frame\n",
    "# Instead of using \"range\" could use the tqdm package's \"trange\" function in \n",
    "# the same way to show a progress bar\n",
    "for i in range(len(results)):\n",
    "    dataset_id = results.loc[i, 'Dataset ID']\n",
    "    url1 = e.get_download_url(\n",
    "        dataset_id=dataset_id, protocol='tabledap',  # variables=variables,\n",
    "        response='nc',\n",
    "    )\n",
    "    filename = output_dir + dataset_id + '.nc'\n",
    "    print(filename)\n",
    "    path, headers = urlretrieve(url1, filename)\n",
    "    filenames.append(filename)"
   ]
  }
 ],
 "metadata": {
  "kernelspec": {
   "display_name": "py312",
   "language": "python",
   "name": "py312"
  },
  "language_info": {
   "codemirror_mode": {
    "name": "ipython",
    "version": 3
   },
   "file_extension": ".py",
   "mimetype": "text/x-python",
   "name": "python",
   "nbconvert_exporter": "python",
   "pygments_lexer": "ipython3",
   "version": "3.12.2"
  }
 },
 "nbformat": 4,
 "nbformat_minor": 5
}
